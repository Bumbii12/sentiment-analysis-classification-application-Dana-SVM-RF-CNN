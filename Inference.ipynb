{
  "nbformat": 4,
  "nbformat_minor": 0,
  "metadata": {
    "colab": {
      "provenance": []
    },
    "kernelspec": {
      "name": "python3",
      "display_name": "Python 3"
    },
    "language_info": {
      "name": "python"
    }
  },
  "cells": [
    {
      "cell_type": "code",
      "execution_count": 3,
      "metadata": {
        "colab": {
          "base_uri": "https://localhost:8080/"
        },
        "id": "G8RNNIDQfuug",
        "outputId": "a9046b86-5a05-4a69-bf48-9b952073ff54"
      },
      "outputs": [
        {
          "output_type": "stream",
          "name": "stdout",
          "text": [
            "Mounted at /content/drive\n"
          ]
        }
      ],
      "source": [
        "# Mount Google Drive\n",
        "from google.colab import drive\n",
        "drive.mount('/content/drive', force_remount=True)\n",
        "\n",
        "import joblib\n",
        "import numpy as np\n",
        "from sklearn.feature_extraction.text import TfidfVectorizer\n",
        "\n",
        "svm_model_path = '/content/drive/MyDrive/svm_model.pkl'\n",
        "vectorizer_path = '/content/drive/MyDrive/tfidf_vectorizer.pkl'\n",
        "\n",
        "svm_model = joblib.load(svm_model_path)\n",
        "tfidf_vectorizer = joblib.load(vectorizer_path)\n",
        "\n",
        "label_mapping = {0: 'negatif', 1: 'netral', 2: 'positif'}\n",
        "\n",
        "def predict_sentiment_svm(text):\n",
        "    text_clean = [text.lower()]\n",
        "    tfidf_features = tfidf_vectorizer.transform(text_clean)\n",
        "    pred_class = svm_model.predict(tfidf_features)[0]\n",
        "    return label_mapping[pred_class]\n"
      ]
    },
    {
      "cell_type": "code",
      "source": [
        "# Contoh prediksi\n",
        "test_texts = [\n",
        "    \"Aplikasi ini sangat bermanfaat dan mudah digunakan.\",\n",
        "    \"Aplikasinya lumayan, tapi masih banyak kekurangannya.\",\n",
        "    \"Desainnya biasa saja, tidak istimewa.\",\n",
        "    \"Responnya lambat dan sering error.\",\n",
        "]\n",
        "\n",
        "for text in test_texts:\n",
        "    result = predict_sentiment_svm(text)\n",
        "    print(f\"Teks: {text}\\nPrediksi: {result}\\n\")"
      ],
      "metadata": {
        "colab": {
          "base_uri": "https://localhost:8080/"
        },
        "id": "8yvhyyDshBTL",
        "outputId": "679a1b3f-dd7e-4561-fe4f-b66fcb7bec6b"
      },
      "execution_count": 2,
      "outputs": [
        {
          "output_type": "stream",
          "name": "stdout",
          "text": [
            "Teks: Aplikasi ini sangat bermanfaat dan mudah digunakan.\n",
            "Prediksi: positif\n",
            "\n",
            "Teks: Aplikasinya lumayan, tapi masih banyak kekurangannya.\n",
            "Prediksi: netral\n",
            "\n",
            "Teks: Desainnya biasa saja, tidak istimewa.\n",
            "Prediksi: netral\n",
            "\n",
            "Teks: Responnya lambat dan sering error.\n",
            "Prediksi: negatif\n",
            "\n"
          ]
        }
      ]
    }
  ]
}