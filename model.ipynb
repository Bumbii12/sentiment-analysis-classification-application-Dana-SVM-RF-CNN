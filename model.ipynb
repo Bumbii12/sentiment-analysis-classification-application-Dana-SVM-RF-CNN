{
  "nbformat": 4,
  "nbformat_minor": 0,
  "metadata": {
    "colab": {
      "provenance": []
    },
    "kernelspec": {
      "name": "python3",
      "display_name": "Python 3"
    },
    "language_info": {
      "name": "python"
    }
  },
  "cells": [
    {
      "cell_type": "code",
      "execution_count": 20,
      "metadata": {
        "id": "z3NINCr2OBwG"
      },
      "outputs": [],
      "source": [
        "# Standard Libraries\n",
        "import csv\n",
        "import time\n",
        "import numpy as np\n",
        "import pandas as pd\n",
        "import matplotlib.pyplot as plt\n",
        "\n",
        "# Pandas options\n",
        "pd.options.mode.chained_assignment = None\n",
        "seed = 0\n",
        "np.random.seed(seed)\n",
        "\n",
        "# Scikit-learn\n",
        "from sklearn.model_selection import train_test_split, RandomizedSearchCV\n",
        "from sklearn.preprocessing import LabelEncoder, StandardScaler\n",
        "from sklearn.feature_extraction.text import TfidfVectorizer\n",
        "from sklearn.ensemble import RandomForestClassifier\n",
        "from sklearn.svm import SVC, LinearSVC\n",
        "from sklearn.metrics import classification_report, accuracy_score, confusion_matrix\n",
        "\n",
        "# Imbalanced data handling\n",
        "from imblearn.over_sampling import SMOTE, RandomOverSampler\n",
        "\n",
        "# TensorFlow / Keras\n",
        "import tensorflow as tf\n",
        "from tensorflow.keras.models import Sequential\n",
        "from tensorflow.keras.layers import Embedding, Conv1D, GlobalMaxPooling1D, Dense, Dropout\n",
        "from tensorflow.keras.preprocessing.text import Tokenizer\n",
        "from tensorflow.keras.preprocessing.sequence import pad_sequences\n",
        "from tensorflow.keras.callbacks import EarlyStopping\n",
        "from tensorflow.keras.regularizers import l2\n",
        "from tensorflow.keras.utils import to_categorical\n"
      ]
    },
    {
      "cell_type": "code",
      "source": [
        "df = pd.read_csv(\"clean_dataset.csv\")\n",
        "\n",
        "df"
      ],
      "metadata": {
        "colab": {
          "base_uri": "https://localhost:8080/",
          "height": 840
        },
        "id": "E1OJeqBMQjJe",
        "outputId": "c5981e5f-1be9-48ed-81e4-3539e6565f0c"
      },
      "execution_count": 21,
      "outputs": [
        {
          "output_type": "execute_result",
          "data": {
            "text/plain": [
              "                        at         userName  score  \\\n",
              "0      2025-03-29 16:56:30  Pengguna Google      2   \n",
              "1      2025-03-27 18:49:41  Pengguna Google      1   \n",
              "2      2025-04-08 10:18:29  Pengguna Google      2   \n",
              "3      2025-04-08 23:00:03  Pengguna Google      3   \n",
              "4      2025-04-03 05:24:42  Pengguna Google      1   \n",
              "...                    ...              ...    ...   \n",
              "49995  2025-01-14 01:08:50      NOVI ARDANA      5   \n",
              "49996  2019-11-15 20:12:48  Pengguna Google      1   \n",
              "49997  2023-04-10 15:29:46       Raja Malam      1   \n",
              "49998  2021-05-07 21:27:09  Ahmad Saipullah      1   \n",
              "49999  2024-03-31 10:18:21         Isma 242      1   \n",
              "\n",
              "                                                 content  \\\n",
              "0      mengapa sangat sulit mengganti KTP padahal sem...   \n",
              "1      Emang aplikasi BUSUK.Saya transaksi sudah terj...   \n",
              "2      kurangin bintang nya ga bisa di buka kalo jari...   \n",
              "3      Dulu sbnrnya ini apk bgs, tapi lama lama error...   \n",
              "4      Akun tiba\" terhubung ke UC Drive Premium, Sald...   \n",
              "...                                                  ...   \n",
              "49995  aplikasi dana sangat membantu untuk tf di mana...   \n",
              "49996  Saya baru pake aplikasi ini, karna ada kepenti...   \n",
              "49997  Ini gimana si dulu mudah mudah aja masuk akun ...   \n",
              "49998  Lama bener ni lelet. Udh di wa antrian selalu ...   \n",
              "49999  aneh banget sih ini dana udah uninstall bbrapa...   \n",
              "\n",
              "                                              text_clean  \\\n",
              "0      mengapa sangat sulit mengganti KTP padahal sem...   \n",
              "1      Emang aplikasi BUSUKSaya transaksi sudah terja...   \n",
              "2      kurangin bintang nya ga bisa di buka kalo jari...   \n",
              "3      Dulu sbnrnya ini apk bgs tapi lama lama error ...   \n",
              "4      Akun tiba terhubung ke UC Drive Premium Saldo ...   \n",
              "...                                                  ...   \n",
              "49995  aplikasi dana sangat membantu untuk tf di mana...   \n",
              "49996  Saya baru pake aplikasi ini karna ada kepentin...   \n",
              "49997  Ini gimana si dulu mudah mudah aja masuk akun ...   \n",
              "49998  Lama bener ni lelet Udh di wa antrian selalu p...   \n",
              "49999  aneh banget sih ini dana udah uninstall bbrapa...   \n",
              "\n",
              "                                    text_casefoldingText  \\\n",
              "0      mengapa sangat sulit mengganti ktp padahal sem...   \n",
              "1      emang aplikasi busuksaya transaksi sudah terja...   \n",
              "2      kurangin bintang nya ga bisa di buka kalo jari...   \n",
              "3      dulu sbnrnya ini apk bgs tapi lama lama error ...   \n",
              "4      akun tiba terhubung ke uc drive premium saldo ...   \n",
              "...                                                  ...   \n",
              "49995  aplikasi dana sangat membantu untuk tf di mana...   \n",
              "49996  saya baru pake aplikasi ini karna ada kepentin...   \n",
              "49997  ini gimana si dulu mudah mudah aja masuk akun ...   \n",
              "49998  lama bener ni lelet udh di wa antrian selalu p...   \n",
              "49999  aneh banget sih ini dana udah uninstall bbrapa...   \n",
              "\n",
              "                                         text_slangwords  \\\n",
              "0      mengapa sangat sulit mengganti ktp padahal sem...   \n",
              "1      emang aplikasi busuksaya transaksi sudah terja...   \n",
              "2      kurangin bintang nya ga bisa di buka kalo jari...   \n",
              "3      dulu sbnrnya ini apk bagus tapi lama lama erro...   \n",
              "4      akun tiba terhubung ke uc drive premium saldo ...   \n",
              "...                                                  ...   \n",
              "49995  aplikasi Dana sangat membantu untuk tf di mana...   \n",
              "49996  saya baru pake aplikasi ini karna ada kepentin...   \n",
              "49997  ini gimana si dulu mudah mudah aja masuk akun ...   \n",
              "49998  lama bener ni lambat udh di wa antrian selalu ...   \n",
              "49999  aneh banget sih ini Dana udah uninstall bbrapa...   \n",
              "\n",
              "                                     text_tokenizingText  \\\n",
              "0      ['mengapa', 'sangat', 'sulit', 'mengganti', 'k...   \n",
              "1      ['emang', 'aplikasi', 'busuksaya', 'transaksi'...   \n",
              "2      ['kurangin', 'bintang', 'nya', 'ga', 'bisa', '...   \n",
              "3      ['dulu', 'sbnrnya', 'ini', 'apk', 'bagus', 'ta...   \n",
              "4      ['akun', 'tiba', 'terhubung', 'ke', 'uc', 'dri...   \n",
              "...                                                  ...   \n",
              "49995  ['aplikasi', 'Dana', 'sangat', 'membantu', 'un...   \n",
              "49996  ['saya', 'baru', 'pake', 'aplikasi', 'ini', 'k...   \n",
              "49997  ['ini', 'gimana', 'si', 'dulu', 'mudah', 'muda...   \n",
              "49998  ['lama', 'bener', 'ni', 'lambat', 'udh', 'di',...   \n",
              "49999  ['aneh', 'banget', 'sih', 'ini', 'Dana', 'udah...   \n",
              "\n",
              "                                           text_stopword  \\\n",
              "0      ['sulit', 'mengganti', 'ktp', 'persyaratan', '...   \n",
              "1      ['emang', 'aplikasi', 'busuksaya', 'transaksi'...   \n",
              "2      ['kurangin', 'bintang', 'buka', 'kalo', 'jarin...   \n",
              "3      ['sbnrnya', 'apk', 'bagus', 'error', 'isi', 's...   \n",
              "4      ['akun', 'terhubung', 'uc', 'drive', 'premium'...   \n",
              "...                                                  ...   \n",
              "49995     ['aplikasi', 'Dana', 'membantu', 'tf', 'lpun']   \n",
              "49996  ['pake', 'aplikasi', 'karna', 'kepentingan', '...   \n",
              "49997  ['gimana', 'si', 'mudah', 'mudah', 'aja', 'mas...   \n",
              "49998  ['bener', 'ni', 'lambat', 'udh', 'wa', 'antria...   \n",
              "49999  ['aneh', 'banget', 'Dana', 'udah', 'uninstall'...   \n",
              "\n",
              "                                              text_akhir  polarity_score  \\\n",
              "0      sulit mengganti ktp persyaratan terpenuhi vide...               2   \n",
              "1      emang aplikasi busuksaya transaksi berhasil bu...               8   \n",
              "2      kurangin bintang buka kalo jaringan data mah p...              -9   \n",
              "3      sbnrnya apk bagus error isi saldo error tf err...             -17   \n",
              "4      akun terhubung uc drive premium saldo terpoton...             -12   \n",
              "...                                                  ...             ...   \n",
              "49995                     aplikasi Dana membantu tf lpun              -4   \n",
              "49996  pake aplikasi karna kepentingan kerjaan downlo...              -4   \n",
              "49997  gimana si mudah mudah aja masuk akun Dana suli...               4   \n",
              "49998  bener ni lambat udh wa antrian penuh ditanggap...              -3   \n",
              "49999  aneh banget Dana udah uninstall bbrapa kali ps...              -2   \n",
              "\n",
              "       polarity  \n",
              "0      positive  \n",
              "1      positive  \n",
              "2      negative  \n",
              "3      negative  \n",
              "4      negative  \n",
              "...         ...  \n",
              "49995  negative  \n",
              "49996  negative  \n",
              "49997  positive  \n",
              "49998  negative  \n",
              "49999  negative  \n",
              "\n",
              "[50000 rows x 12 columns]"
            ],
            "text/html": [
              "\n",
              "  <div id=\"df-2132b003-7b98-44f6-aef8-a9f5cb822e30\" class=\"colab-df-container\">\n",
              "    <div>\n",
              "<style scoped>\n",
              "    .dataframe tbody tr th:only-of-type {\n",
              "        vertical-align: middle;\n",
              "    }\n",
              "\n",
              "    .dataframe tbody tr th {\n",
              "        vertical-align: top;\n",
              "    }\n",
              "\n",
              "    .dataframe thead th {\n",
              "        text-align: right;\n",
              "    }\n",
              "</style>\n",
              "<table border=\"1\" class=\"dataframe\">\n",
              "  <thead>\n",
              "    <tr style=\"text-align: right;\">\n",
              "      <th></th>\n",
              "      <th>at</th>\n",
              "      <th>userName</th>\n",
              "      <th>score</th>\n",
              "      <th>content</th>\n",
              "      <th>text_clean</th>\n",
              "      <th>text_casefoldingText</th>\n",
              "      <th>text_slangwords</th>\n",
              "      <th>text_tokenizingText</th>\n",
              "      <th>text_stopword</th>\n",
              "      <th>text_akhir</th>\n",
              "      <th>polarity_score</th>\n",
              "      <th>polarity</th>\n",
              "    </tr>\n",
              "  </thead>\n",
              "  <tbody>\n",
              "    <tr>\n",
              "      <th>0</th>\n",
              "      <td>2025-03-29 16:56:30</td>\n",
              "      <td>Pengguna Google</td>\n",
              "      <td>2</td>\n",
              "      <td>mengapa sangat sulit mengganti KTP padahal sem...</td>\n",
              "      <td>mengapa sangat sulit mengganti KTP padahal sem...</td>\n",
              "      <td>mengapa sangat sulit mengganti ktp padahal sem...</td>\n",
              "      <td>mengapa sangat sulit mengganti ktp padahal sem...</td>\n",
              "      <td>['mengapa', 'sangat', 'sulit', 'mengganti', 'k...</td>\n",
              "      <td>['sulit', 'mengganti', 'ktp', 'persyaratan', '...</td>\n",
              "      <td>sulit mengganti ktp persyaratan terpenuhi vide...</td>\n",
              "      <td>2</td>\n",
              "      <td>positive</td>\n",
              "    </tr>\n",
              "    <tr>\n",
              "      <th>1</th>\n",
              "      <td>2025-03-27 18:49:41</td>\n",
              "      <td>Pengguna Google</td>\n",
              "      <td>1</td>\n",
              "      <td>Emang aplikasi BUSUK.Saya transaksi sudah terj...</td>\n",
              "      <td>Emang aplikasi BUSUKSaya transaksi sudah terja...</td>\n",
              "      <td>emang aplikasi busuksaya transaksi sudah terja...</td>\n",
              "      <td>emang aplikasi busuksaya transaksi sudah terja...</td>\n",
              "      <td>['emang', 'aplikasi', 'busuksaya', 'transaksi'...</td>\n",
              "      <td>['emang', 'aplikasi', 'busuksaya', 'transaksi'...</td>\n",
              "      <td>emang aplikasi busuksaya transaksi berhasil bu...</td>\n",
              "      <td>8</td>\n",
              "      <td>positive</td>\n",
              "    </tr>\n",
              "    <tr>\n",
              "      <th>2</th>\n",
              "      <td>2025-04-08 10:18:29</td>\n",
              "      <td>Pengguna Google</td>\n",
              "      <td>2</td>\n",
              "      <td>kurangin bintang nya ga bisa di buka kalo jari...</td>\n",
              "      <td>kurangin bintang nya ga bisa di buka kalo jari...</td>\n",
              "      <td>kurangin bintang nya ga bisa di buka kalo jari...</td>\n",
              "      <td>kurangin bintang nya ga bisa di buka kalo jari...</td>\n",
              "      <td>['kurangin', 'bintang', 'nya', 'ga', 'bisa', '...</td>\n",
              "      <td>['kurangin', 'bintang', 'buka', 'kalo', 'jarin...</td>\n",
              "      <td>kurangin bintang buka kalo jaringan data mah p...</td>\n",
              "      <td>-9</td>\n",
              "      <td>negative</td>\n",
              "    </tr>\n",
              "    <tr>\n",
              "      <th>3</th>\n",
              "      <td>2025-04-08 23:00:03</td>\n",
              "      <td>Pengguna Google</td>\n",
              "      <td>3</td>\n",
              "      <td>Dulu sbnrnya ini apk bgs, tapi lama lama error...</td>\n",
              "      <td>Dulu sbnrnya ini apk bgs tapi lama lama error ...</td>\n",
              "      <td>dulu sbnrnya ini apk bgs tapi lama lama error ...</td>\n",
              "      <td>dulu sbnrnya ini apk bagus tapi lama lama erro...</td>\n",
              "      <td>['dulu', 'sbnrnya', 'ini', 'apk', 'bagus', 'ta...</td>\n",
              "      <td>['sbnrnya', 'apk', 'bagus', 'error', 'isi', 's...</td>\n",
              "      <td>sbnrnya apk bagus error isi saldo error tf err...</td>\n",
              "      <td>-17</td>\n",
              "      <td>negative</td>\n",
              "    </tr>\n",
              "    <tr>\n",
              "      <th>4</th>\n",
              "      <td>2025-04-03 05:24:42</td>\n",
              "      <td>Pengguna Google</td>\n",
              "      <td>1</td>\n",
              "      <td>Akun tiba\" terhubung ke UC Drive Premium, Sald...</td>\n",
              "      <td>Akun tiba terhubung ke UC Drive Premium Saldo ...</td>\n",
              "      <td>akun tiba terhubung ke uc drive premium saldo ...</td>\n",
              "      <td>akun tiba terhubung ke uc drive premium saldo ...</td>\n",
              "      <td>['akun', 'tiba', 'terhubung', 'ke', 'uc', 'dri...</td>\n",
              "      <td>['akun', 'terhubung', 'uc', 'drive', 'premium'...</td>\n",
              "      <td>akun terhubung uc drive premium saldo terpoton...</td>\n",
              "      <td>-12</td>\n",
              "      <td>negative</td>\n",
              "    </tr>\n",
              "    <tr>\n",
              "      <th>...</th>\n",
              "      <td>...</td>\n",
              "      <td>...</td>\n",
              "      <td>...</td>\n",
              "      <td>...</td>\n",
              "      <td>...</td>\n",
              "      <td>...</td>\n",
              "      <td>...</td>\n",
              "      <td>...</td>\n",
              "      <td>...</td>\n",
              "      <td>...</td>\n",
              "      <td>...</td>\n",
              "      <td>...</td>\n",
              "    </tr>\n",
              "    <tr>\n",
              "      <th>49995</th>\n",
              "      <td>2025-01-14 01:08:50</td>\n",
              "      <td>NOVI ARDANA</td>\n",
              "      <td>5</td>\n",
              "      <td>aplikasi dana sangat membantu untuk tf di mana...</td>\n",
              "      <td>aplikasi dana sangat membantu untuk tf di mana...</td>\n",
              "      <td>aplikasi dana sangat membantu untuk tf di mana...</td>\n",
              "      <td>aplikasi Dana sangat membantu untuk tf di mana...</td>\n",
              "      <td>['aplikasi', 'Dana', 'sangat', 'membantu', 'un...</td>\n",
              "      <td>['aplikasi', 'Dana', 'membantu', 'tf', 'lpun']</td>\n",
              "      <td>aplikasi Dana membantu tf lpun</td>\n",
              "      <td>-4</td>\n",
              "      <td>negative</td>\n",
              "    </tr>\n",
              "    <tr>\n",
              "      <th>49996</th>\n",
              "      <td>2019-11-15 20:12:48</td>\n",
              "      <td>Pengguna Google</td>\n",
              "      <td>1</td>\n",
              "      <td>Saya baru pake aplikasi ini, karna ada kepenti...</td>\n",
              "      <td>Saya baru pake aplikasi ini karna ada kepentin...</td>\n",
              "      <td>saya baru pake aplikasi ini karna ada kepentin...</td>\n",
              "      <td>saya baru pake aplikasi ini karna ada kepentin...</td>\n",
              "      <td>['saya', 'baru', 'pake', 'aplikasi', 'ini', 'k...</td>\n",
              "      <td>['pake', 'aplikasi', 'karna', 'kepentingan', '...</td>\n",
              "      <td>pake aplikasi karna kepentingan kerjaan downlo...</td>\n",
              "      <td>-4</td>\n",
              "      <td>negative</td>\n",
              "    </tr>\n",
              "    <tr>\n",
              "      <th>49997</th>\n",
              "      <td>2023-04-10 15:29:46</td>\n",
              "      <td>Raja Malam</td>\n",
              "      <td>1</td>\n",
              "      <td>Ini gimana si dulu mudah mudah aja masuk akun ...</td>\n",
              "      <td>Ini gimana si dulu mudah mudah aja masuk akun ...</td>\n",
              "      <td>ini gimana si dulu mudah mudah aja masuk akun ...</td>\n",
              "      <td>ini gimana si dulu mudah mudah aja masuk akun ...</td>\n",
              "      <td>['ini', 'gimana', 'si', 'dulu', 'mudah', 'muda...</td>\n",
              "      <td>['gimana', 'si', 'mudah', 'mudah', 'aja', 'mas...</td>\n",
              "      <td>gimana si mudah mudah aja masuk akun Dana suli...</td>\n",
              "      <td>4</td>\n",
              "      <td>positive</td>\n",
              "    </tr>\n",
              "    <tr>\n",
              "      <th>49998</th>\n",
              "      <td>2021-05-07 21:27:09</td>\n",
              "      <td>Ahmad Saipullah</td>\n",
              "      <td>1</td>\n",
              "      <td>Lama bener ni lelet. Udh di wa antrian selalu ...</td>\n",
              "      <td>Lama bener ni lelet Udh di wa antrian selalu p...</td>\n",
              "      <td>lama bener ni lelet udh di wa antrian selalu p...</td>\n",
              "      <td>lama bener ni lambat udh di wa antrian selalu ...</td>\n",
              "      <td>['lama', 'bener', 'ni', 'lambat', 'udh', 'di',...</td>\n",
              "      <td>['bener', 'ni', 'lambat', 'udh', 'wa', 'antria...</td>\n",
              "      <td>bener ni lambat udh wa antrian penuh ditanggap...</td>\n",
              "      <td>-3</td>\n",
              "      <td>negative</td>\n",
              "    </tr>\n",
              "    <tr>\n",
              "      <th>49999</th>\n",
              "      <td>2024-03-31 10:18:21</td>\n",
              "      <td>Isma 242</td>\n",
              "      <td>1</td>\n",
              "      <td>aneh banget sih ini dana udah uninstall bbrapa...</td>\n",
              "      <td>aneh banget sih ini dana udah uninstall bbrapa...</td>\n",
              "      <td>aneh banget sih ini dana udah uninstall bbrapa...</td>\n",
              "      <td>aneh banget sih ini Dana udah uninstall bbrapa...</td>\n",
              "      <td>['aneh', 'banget', 'sih', 'ini', 'Dana', 'udah...</td>\n",
              "      <td>['aneh', 'banget', 'Dana', 'udah', 'uninstall'...</td>\n",
              "      <td>aneh banget Dana udah uninstall bbrapa kali ps...</td>\n",
              "      <td>-2</td>\n",
              "      <td>negative</td>\n",
              "    </tr>\n",
              "  </tbody>\n",
              "</table>\n",
              "<p>50000 rows × 12 columns</p>\n",
              "</div>\n",
              "    <div class=\"colab-df-buttons\">\n",
              "\n",
              "  <div class=\"colab-df-container\">\n",
              "    <button class=\"colab-df-convert\" onclick=\"convertToInteractive('df-2132b003-7b98-44f6-aef8-a9f5cb822e30')\"\n",
              "            title=\"Convert this dataframe to an interactive table.\"\n",
              "            style=\"display:none;\">\n",
              "\n",
              "  <svg xmlns=\"http://www.w3.org/2000/svg\" height=\"24px\" viewBox=\"0 -960 960 960\">\n",
              "    <path d=\"M120-120v-720h720v720H120Zm60-500h600v-160H180v160Zm220 220h160v-160H400v160Zm0 220h160v-160H400v160ZM180-400h160v-160H180v160Zm440 0h160v-160H620v160ZM180-180h160v-160H180v160Zm440 0h160v-160H620v160Z\"/>\n",
              "  </svg>\n",
              "    </button>\n",
              "\n",
              "  <style>\n",
              "    .colab-df-container {\n",
              "      display:flex;\n",
              "      gap: 12px;\n",
              "    }\n",
              "\n",
              "    .colab-df-convert {\n",
              "      background-color: #E8F0FE;\n",
              "      border: none;\n",
              "      border-radius: 50%;\n",
              "      cursor: pointer;\n",
              "      display: none;\n",
              "      fill: #1967D2;\n",
              "      height: 32px;\n",
              "      padding: 0 0 0 0;\n",
              "      width: 32px;\n",
              "    }\n",
              "\n",
              "    .colab-df-convert:hover {\n",
              "      background-color: #E2EBFA;\n",
              "      box-shadow: 0px 1px 2px rgba(60, 64, 67, 0.3), 0px 1px 3px 1px rgba(60, 64, 67, 0.15);\n",
              "      fill: #174EA6;\n",
              "    }\n",
              "\n",
              "    .colab-df-buttons div {\n",
              "      margin-bottom: 4px;\n",
              "    }\n",
              "\n",
              "    [theme=dark] .colab-df-convert {\n",
              "      background-color: #3B4455;\n",
              "      fill: #D2E3FC;\n",
              "    }\n",
              "\n",
              "    [theme=dark] .colab-df-convert:hover {\n",
              "      background-color: #434B5C;\n",
              "      box-shadow: 0px 1px 3px 1px rgba(0, 0, 0, 0.15);\n",
              "      filter: drop-shadow(0px 1px 2px rgba(0, 0, 0, 0.3));\n",
              "      fill: #FFFFFF;\n",
              "    }\n",
              "  </style>\n",
              "\n",
              "    <script>\n",
              "      const buttonEl =\n",
              "        document.querySelector('#df-2132b003-7b98-44f6-aef8-a9f5cb822e30 button.colab-df-convert');\n",
              "      buttonEl.style.display =\n",
              "        google.colab.kernel.accessAllowed ? 'block' : 'none';\n",
              "\n",
              "      async function convertToInteractive(key) {\n",
              "        const element = document.querySelector('#df-2132b003-7b98-44f6-aef8-a9f5cb822e30');\n",
              "        const dataTable =\n",
              "          await google.colab.kernel.invokeFunction('convertToInteractive',\n",
              "                                                    [key], {});\n",
              "        if (!dataTable) return;\n",
              "\n",
              "        const docLinkHtml = 'Like what you see? Visit the ' +\n",
              "          '<a target=\"_blank\" href=https://colab.research.google.com/notebooks/data_table.ipynb>data table notebook</a>'\n",
              "          + ' to learn more about interactive tables.';\n",
              "        element.innerHTML = '';\n",
              "        dataTable['output_type'] = 'display_data';\n",
              "        await google.colab.output.renderOutput(dataTable, element);\n",
              "        const docLink = document.createElement('div');\n",
              "        docLink.innerHTML = docLinkHtml;\n",
              "        element.appendChild(docLink);\n",
              "      }\n",
              "    </script>\n",
              "  </div>\n",
              "\n",
              "\n",
              "<div id=\"df-f7461f90-7eb4-4ad2-899c-636c9ca42f1f\">\n",
              "  <button class=\"colab-df-quickchart\" onclick=\"quickchart('df-f7461f90-7eb4-4ad2-899c-636c9ca42f1f')\"\n",
              "            title=\"Suggest charts\"\n",
              "            style=\"display:none;\">\n",
              "\n",
              "<svg xmlns=\"http://www.w3.org/2000/svg\" height=\"24px\"viewBox=\"0 0 24 24\"\n",
              "     width=\"24px\">\n",
              "    <g>\n",
              "        <path d=\"M19 3H5c-1.1 0-2 .9-2 2v14c0 1.1.9 2 2 2h14c1.1 0 2-.9 2-2V5c0-1.1-.9-2-2-2zM9 17H7v-7h2v7zm4 0h-2V7h2v10zm4 0h-2v-4h2v4z\"/>\n",
              "    </g>\n",
              "</svg>\n",
              "  </button>\n",
              "\n",
              "<style>\n",
              "  .colab-df-quickchart {\n",
              "      --bg-color: #E8F0FE;\n",
              "      --fill-color: #1967D2;\n",
              "      --hover-bg-color: #E2EBFA;\n",
              "      --hover-fill-color: #174EA6;\n",
              "      --disabled-fill-color: #AAA;\n",
              "      --disabled-bg-color: #DDD;\n",
              "  }\n",
              "\n",
              "  [theme=dark] .colab-df-quickchart {\n",
              "      --bg-color: #3B4455;\n",
              "      --fill-color: #D2E3FC;\n",
              "      --hover-bg-color: #434B5C;\n",
              "      --hover-fill-color: #FFFFFF;\n",
              "      --disabled-bg-color: #3B4455;\n",
              "      --disabled-fill-color: #666;\n",
              "  }\n",
              "\n",
              "  .colab-df-quickchart {\n",
              "    background-color: var(--bg-color);\n",
              "    border: none;\n",
              "    border-radius: 50%;\n",
              "    cursor: pointer;\n",
              "    display: none;\n",
              "    fill: var(--fill-color);\n",
              "    height: 32px;\n",
              "    padding: 0;\n",
              "    width: 32px;\n",
              "  }\n",
              "\n",
              "  .colab-df-quickchart:hover {\n",
              "    background-color: var(--hover-bg-color);\n",
              "    box-shadow: 0 1px 2px rgba(60, 64, 67, 0.3), 0 1px 3px 1px rgba(60, 64, 67, 0.15);\n",
              "    fill: var(--button-hover-fill-color);\n",
              "  }\n",
              "\n",
              "  .colab-df-quickchart-complete:disabled,\n",
              "  .colab-df-quickchart-complete:disabled:hover {\n",
              "    background-color: var(--disabled-bg-color);\n",
              "    fill: var(--disabled-fill-color);\n",
              "    box-shadow: none;\n",
              "  }\n",
              "\n",
              "  .colab-df-spinner {\n",
              "    border: 2px solid var(--fill-color);\n",
              "    border-color: transparent;\n",
              "    border-bottom-color: var(--fill-color);\n",
              "    animation:\n",
              "      spin 1s steps(1) infinite;\n",
              "  }\n",
              "\n",
              "  @keyframes spin {\n",
              "    0% {\n",
              "      border-color: transparent;\n",
              "      border-bottom-color: var(--fill-color);\n",
              "      border-left-color: var(--fill-color);\n",
              "    }\n",
              "    20% {\n",
              "      border-color: transparent;\n",
              "      border-left-color: var(--fill-color);\n",
              "      border-top-color: var(--fill-color);\n",
              "    }\n",
              "    30% {\n",
              "      border-color: transparent;\n",
              "      border-left-color: var(--fill-color);\n",
              "      border-top-color: var(--fill-color);\n",
              "      border-right-color: var(--fill-color);\n",
              "    }\n",
              "    40% {\n",
              "      border-color: transparent;\n",
              "      border-right-color: var(--fill-color);\n",
              "      border-top-color: var(--fill-color);\n",
              "    }\n",
              "    60% {\n",
              "      border-color: transparent;\n",
              "      border-right-color: var(--fill-color);\n",
              "    }\n",
              "    80% {\n",
              "      border-color: transparent;\n",
              "      border-right-color: var(--fill-color);\n",
              "      border-bottom-color: var(--fill-color);\n",
              "    }\n",
              "    90% {\n",
              "      border-color: transparent;\n",
              "      border-bottom-color: var(--fill-color);\n",
              "    }\n",
              "  }\n",
              "</style>\n",
              "\n",
              "  <script>\n",
              "    async function quickchart(key) {\n",
              "      const quickchartButtonEl =\n",
              "        document.querySelector('#' + key + ' button');\n",
              "      quickchartButtonEl.disabled = true;  // To prevent multiple clicks.\n",
              "      quickchartButtonEl.classList.add('colab-df-spinner');\n",
              "      try {\n",
              "        const charts = await google.colab.kernel.invokeFunction(\n",
              "            'suggestCharts', [key], {});\n",
              "      } catch (error) {\n",
              "        console.error('Error during call to suggestCharts:', error);\n",
              "      }\n",
              "      quickchartButtonEl.classList.remove('colab-df-spinner');\n",
              "      quickchartButtonEl.classList.add('colab-df-quickchart-complete');\n",
              "    }\n",
              "    (() => {\n",
              "      let quickchartButtonEl =\n",
              "        document.querySelector('#df-f7461f90-7eb4-4ad2-899c-636c9ca42f1f button');\n",
              "      quickchartButtonEl.style.display =\n",
              "        google.colab.kernel.accessAllowed ? 'block' : 'none';\n",
              "    })();\n",
              "  </script>\n",
              "</div>\n",
              "\n",
              "  <div id=\"id_64c1a788-34a2-486c-b96c-e321ebb56fa7\">\n",
              "    <style>\n",
              "      .colab-df-generate {\n",
              "        background-color: #E8F0FE;\n",
              "        border: none;\n",
              "        border-radius: 50%;\n",
              "        cursor: pointer;\n",
              "        display: none;\n",
              "        fill: #1967D2;\n",
              "        height: 32px;\n",
              "        padding: 0 0 0 0;\n",
              "        width: 32px;\n",
              "      }\n",
              "\n",
              "      .colab-df-generate:hover {\n",
              "        background-color: #E2EBFA;\n",
              "        box-shadow: 0px 1px 2px rgba(60, 64, 67, 0.3), 0px 1px 3px 1px rgba(60, 64, 67, 0.15);\n",
              "        fill: #174EA6;\n",
              "      }\n",
              "\n",
              "      [theme=dark] .colab-df-generate {\n",
              "        background-color: #3B4455;\n",
              "        fill: #D2E3FC;\n",
              "      }\n",
              "\n",
              "      [theme=dark] .colab-df-generate:hover {\n",
              "        background-color: #434B5C;\n",
              "        box-shadow: 0px 1px 3px 1px rgba(0, 0, 0, 0.15);\n",
              "        filter: drop-shadow(0px 1px 2px rgba(0, 0, 0, 0.3));\n",
              "        fill: #FFFFFF;\n",
              "      }\n",
              "    </style>\n",
              "    <button class=\"colab-df-generate\" onclick=\"generateWithVariable('df')\"\n",
              "            title=\"Generate code using this dataframe.\"\n",
              "            style=\"display:none;\">\n",
              "\n",
              "  <svg xmlns=\"http://www.w3.org/2000/svg\" height=\"24px\"viewBox=\"0 0 24 24\"\n",
              "       width=\"24px\">\n",
              "    <path d=\"M7,19H8.4L18.45,9,17,7.55,7,17.6ZM5,21V16.75L18.45,3.32a2,2,0,0,1,2.83,0l1.4,1.43a1.91,1.91,0,0,1,.58,1.4,1.91,1.91,0,0,1-.58,1.4L9.25,21ZM18.45,9,17,7.55Zm-12,3A5.31,5.31,0,0,0,4.9,8.1,5.31,5.31,0,0,0,1,6.5,5.31,5.31,0,0,0,4.9,4.9,5.31,5.31,0,0,0,6.5,1,5.31,5.31,0,0,0,8.1,4.9,5.31,5.31,0,0,0,12,6.5,5.46,5.46,0,0,0,6.5,12Z\"/>\n",
              "  </svg>\n",
              "    </button>\n",
              "    <script>\n",
              "      (() => {\n",
              "      const buttonEl =\n",
              "        document.querySelector('#id_64c1a788-34a2-486c-b96c-e321ebb56fa7 button.colab-df-generate');\n",
              "      buttonEl.style.display =\n",
              "        google.colab.kernel.accessAllowed ? 'block' : 'none';\n",
              "\n",
              "      buttonEl.onclick = () => {\n",
              "        google.colab.notebook.generateWithVariable('df');\n",
              "      }\n",
              "      })();\n",
              "    </script>\n",
              "  </div>\n",
              "\n",
              "    </div>\n",
              "  </div>\n"
            ],
            "application/vnd.google.colaboratory.intrinsic+json": {
              "type": "dataframe",
              "variable_name": "df",
              "summary": "{\n  \"name\": \"df\",\n  \"rows\": 50000,\n  \"fields\": [\n    {\n      \"column\": \"at\",\n      \"properties\": {\n        \"dtype\": \"object\",\n        \"num_unique_values\": 49950,\n        \"samples\": [\n          \"2024-11-12 05:32:03\",\n          \"2021-09-28 17:51:40\",\n          \"2023-06-01 13:34:36\"\n        ],\n        \"semantic_type\": \"\",\n        \"description\": \"\"\n      }\n    },\n    {\n      \"column\": \"userName\",\n      \"properties\": {\n        \"dtype\": \"category\",\n        \"num_unique_values\": 4719,\n        \"samples\": [\n          \"David Alpando\",\n          \"Rizal Fatrodi\",\n          \"Julianto Belig\"\n        ],\n        \"semantic_type\": \"\",\n        \"description\": \"\"\n      }\n    },\n    {\n      \"column\": \"score\",\n      \"properties\": {\n        \"dtype\": \"number\",\n        \"std\": 1,\n        \"min\": 1,\n        \"max\": 5,\n        \"num_unique_values\": 5,\n        \"samples\": [\n          1,\n          4,\n          3\n        ],\n        \"semantic_type\": \"\",\n        \"description\": \"\"\n      }\n    },\n    {\n      \"column\": \"content\",\n      \"properties\": {\n        \"dtype\": \"string\",\n        \"num_unique_values\": 49853,\n        \"samples\": [\n          \"Aku kasih B 3 dulu deh. Soal nya tiap mau isi token listrik. Top up. Isi pulsa ? Gangguan trus. Gak bisa konsisten kalo ada keperluan mendadak. Tolong developer di perbaiki lg masalah oprasional nya. Ini DANA kenapa sih aplikasj nya gk ada yg bisa d buka. Bahkan e-mail dari service gk bisa d buka.\",\n          \"Saya transfer tengah malam dan sampai sekarang uang belum juga masuk ke penerima rekening!!!! Apalagi keterangannya butuh waktu 16 jam!! Parah banget ini aplikasi dan uang saya belum juga kembali!!! Live chat jawabannya menggunakan robot dan tetap disuruh menunggu!!!\",\n          \"Apakah benar dana telah bekerjasama dengan apk yg kata nya bisa mengisi saldo tanpa harus menggunakan uang , hanya dengan menginstal dan bermain dapat mengisi saldo, ( pengguna baru apk dana)\"\n        ],\n        \"semantic_type\": \"\",\n        \"description\": \"\"\n      }\n    },\n    {\n      \"column\": \"text_clean\",\n      \"properties\": {\n        \"dtype\": \"string\",\n        \"num_unique_values\": 49836,\n        \"samples\": [\n          \"Ini gimana ya kog semakin kesini semakin tidak nyaman app sering tiba\\u00b2 keluar sendiri mau transaksi tiba\\u00b2 sedang perawatan mau beli\\u00b2 pulsadata sering stok habis Semakin tidak nyaman aja gitu sy sebagai pengguna bertahun\\u00b2 sedikit kecewa saja mana diskon\\u00b2 sudah jarang ada Tolong diperbaiki min semoga semakin banyak penggunanya\",\n          \"Kenapa ya aplikasi dana saya tidak bisa dioperasikan selalu muncul tanda bacaan koneksi internet terputus\",\n          \"Aplikasi udah bagus Hanya saja perlu diperbaiki lagi Karna loadingnya selalu lamalemot setiap kali saya buka apk dana Padahal apk sebelah kayak ovo selalu lancar cepet loadingnya Perlu diperbaiki lagi untuk loadingnya Sementara saya kasih bintang  dulu Kalau udah cepet saya fullin bintang\"\n        ],\n        \"semantic_type\": \"\",\n        \"description\": \"\"\n      }\n    },\n    {\n      \"column\": \"text_casefoldingText\",\n      \"properties\": {\n        \"dtype\": \"string\",\n        \"num_unique_values\": 49806,\n        \"samples\": [\n          \"saran saya untuk upgrade ke dana plus saat memfoto ktp di sediakan fitur pengambilan dari galeri agar lebih mudahkarena ada orang yang kamera nya ngeblur jadi agak susah kalo fotonya tidak lewat kamera\",\n          \"pada tanggal  januari saldo saya hilang  jt ada transaksi tidak di kenal mana pengamanan pakai dana seperti tidak ada padahal saya sudah akun premium  jika uang saya tidak kembali saya akan berhenti pakai dana\",\n          \"sangat mudah di gunakan dan gak pake ribet\"\n        ],\n        \"semantic_type\": \"\",\n        \"description\": \"\"\n      }\n    },\n    {\n      \"column\": \"text_slangwords\",\n      \"properties\": {\n        \"dtype\": \"string\",\n        \"num_unique_values\": 49796,\n        \"samples\": [\n          \"aplikasi ga guna sistem selalu gangguan giliran komplein dialihkan ke email tapi dijawab dengan penuh ketidak pastian dan jawaban dari keluhan kami lebih baik aplikasi ini dihapus dari playstore karna amat sangat meresahkan\",\n          \"layanan pindah no tlp yg lama ke no tlp yg baru gak bisa sedangkan no tlp yg lama hilang beserta hp nya jd saya kecewa\",\n          \"lumayan bagus apknya\"\n        ],\n        \"semantic_type\": \"\",\n        \"description\": \"\"\n      }\n    },\n    {\n      \"column\": \"text_tokenizingText\",\n      \"properties\": {\n        \"dtype\": \"string\",\n        \"num_unique_values\": 49796,\n        \"samples\": [\n          \"['aplikasi', 'ga', 'guna', 'sistem', 'selalu', 'gangguan', 'giliran', 'komplein', 'dialihkan', 'ke', 'email', 'tapi', 'dijawab', 'dengan', 'penuh', 'ketidak', 'pastian', 'dan', 'jawaban', 'dari', 'keluhan', 'kami', 'lebih', 'baik', 'aplikasi', 'ini', 'dihapus', 'dari', 'playstore', 'karna', 'amat', 'sangat', 'meresahkan']\",\n          \"['layanan', 'pindah', 'no', 'tlp', 'yg', 'lama', 'ke', 'no', 'tlp', 'yg', 'baru', 'gak', 'bisa', 'sedangkan', 'no', 'tlp', 'yg', 'lama', 'hilang', 'beserta', 'hp', 'nya', 'jd', 'saya', 'kecewa']\",\n          \"['lumayan', 'bagus', 'apknya']\"\n        ],\n        \"semantic_type\": \"\",\n        \"description\": \"\"\n      }\n    },\n    {\n      \"column\": \"text_stopword\",\n      \"properties\": {\n        \"dtype\": \"string\",\n        \"num_unique_values\": 49454,\n        \"samples\": [\n          \"['konten', 'promosi', 'Dana', 'penipuan', 'berkedok', 'hadiah', 'hadiah', 'live', 'chat', 'cs', 'bot']\",\n          \"['hati', 'aja', 'bagus', 'nominal', 'saldo', 'bertambah', 'rupiah', 'lapor', 'costumer', 'care', 'tanggapan', 'telfon', 'sibuk', 'banget', 'limit', 'pemberitahuan', 'langsung', 'pemberitahuan', 'info', 'Dana', 'bagus', 'korban']\",\n          \"['harap', 'tingkat', 'koneksi', 'yg', 'stabilsering', 'alasan', 'jaringan', 'sibukapa', 'kasih', 'biar', 'ringan', 'pilihan', 'menu', 'yg', 'pengguna', 'tidakkurang', 'layanan', 'nyaharus', 'tingkat', 'root', 'biar', 'nasabah', 'Dana', 'kecewa', 'layanan', 'transaksi', 'tranfersemoga', 'profesional', 'lagiterima', 'kasih']\"\n        ],\n        \"semantic_type\": \"\",\n        \"description\": \"\"\n      }\n    },\n    {\n      \"column\": \"text_akhir\",\n      \"properties\": {\n        \"dtype\": \"string\",\n        \"num_unique_values\": 49453,\n        \"samples\": [\n          \"pencairan Dana bisnis gausah dibalas keluhan dibalas jawabannya user bot\",\n          \"upgrade premium aja sulit udh telfon cs nyaudh konfrimasi data balasannya suruh nunggusetelah udh jam konfrimasi udh telfon layanan sibuk melulu harusny klo data lengkap udh pakaiperasaan ovo go pay verifikasi gampang cepat pelayanan udh telfon konfrimasi Dana proses lambat bikin kapok saldo nyangkut Dana gimana mengatasinya\",\n          \"alhamdulilah apk Dana transaksi mudahdan mmbuat lapangan kerja sampinganjual pulsa mantapp pokonyajangan gangguan\"\n        ],\n        \"semantic_type\": \"\",\n        \"description\": \"\"\n      }\n    },\n    {\n      \"column\": \"polarity_score\",\n      \"properties\": {\n        \"dtype\": \"number\",\n        \"std\": 8,\n        \"min\": -59,\n        \"max\": 38,\n        \"num_unique_values\": 93,\n        \"samples\": [\n          21,\n          -33,\n          -34\n        ],\n        \"semantic_type\": \"\",\n        \"description\": \"\"\n      }\n    },\n    {\n      \"column\": \"polarity\",\n      \"properties\": {\n        \"dtype\": \"category\",\n        \"num_unique_values\": 3,\n        \"samples\": [\n          \"positive\",\n          \"negative\",\n          \"neutral\"\n        ],\n        \"semantic_type\": \"\",\n        \"description\": \"\"\n      }\n    }\n  ]\n}"
            }
          },
          "metadata": {},
          "execution_count": 21
        }
      ]
    },
    {
      "cell_type": "code",
      "source": [
        "df.info()"
      ],
      "metadata": {
        "colab": {
          "base_uri": "https://localhost:8080/"
        },
        "id": "WfPY_D9PSex5",
        "outputId": "967f0e93-f408-472c-fb28-06dc0e1a6e9d"
      },
      "execution_count": 22,
      "outputs": [
        {
          "output_type": "stream",
          "name": "stdout",
          "text": [
            "<class 'pandas.core.frame.DataFrame'>\n",
            "RangeIndex: 50000 entries, 0 to 49999\n",
            "Data columns (total 12 columns):\n",
            " #   Column                Non-Null Count  Dtype \n",
            "---  ------                --------------  ----- \n",
            " 0   at                    50000 non-null  object\n",
            " 1   userName              50000 non-null  object\n",
            " 2   score                 50000 non-null  int64 \n",
            " 3   content               50000 non-null  object\n",
            " 4   text_clean            50000 non-null  object\n",
            " 5   text_casefoldingText  50000 non-null  object\n",
            " 6   text_slangwords       50000 non-null  object\n",
            " 7   text_tokenizingText   50000 non-null  object\n",
            " 8   text_stopword         50000 non-null  object\n",
            " 9   text_akhir            49993 non-null  object\n",
            " 10  polarity_score        50000 non-null  int64 \n",
            " 11  polarity              50000 non-null  object\n",
            "dtypes: int64(2), object(10)\n",
            "memory usage: 4.6+ MB\n"
          ]
        }
      ]
    },
    {
      "cell_type": "code",
      "source": [
        "df.isnull().sum()"
      ],
      "metadata": {
        "colab": {
          "base_uri": "https://localhost:8080/",
          "height": 460
        },
        "id": "3eZuDXTV4p0p",
        "outputId": "83e2a8b8-c4a2-40cd-b16d-e356f6ee2ff8"
      },
      "execution_count": 23,
      "outputs": [
        {
          "output_type": "execute_result",
          "data": {
            "text/plain": [
              "at                      0\n",
              "userName                0\n",
              "score                   0\n",
              "content                 0\n",
              "text_clean              0\n",
              "text_casefoldingText    0\n",
              "text_slangwords         0\n",
              "text_tokenizingText     0\n",
              "text_stopword           0\n",
              "text_akhir              7\n",
              "polarity_score          0\n",
              "polarity                0\n",
              "dtype: int64"
            ],
            "text/html": [
              "<div>\n",
              "<style scoped>\n",
              "    .dataframe tbody tr th:only-of-type {\n",
              "        vertical-align: middle;\n",
              "    }\n",
              "\n",
              "    .dataframe tbody tr th {\n",
              "        vertical-align: top;\n",
              "    }\n",
              "\n",
              "    .dataframe thead th {\n",
              "        text-align: right;\n",
              "    }\n",
              "</style>\n",
              "<table border=\"1\" class=\"dataframe\">\n",
              "  <thead>\n",
              "    <tr style=\"text-align: right;\">\n",
              "      <th></th>\n",
              "      <th>0</th>\n",
              "    </tr>\n",
              "  </thead>\n",
              "  <tbody>\n",
              "    <tr>\n",
              "      <th>at</th>\n",
              "      <td>0</td>\n",
              "    </tr>\n",
              "    <tr>\n",
              "      <th>userName</th>\n",
              "      <td>0</td>\n",
              "    </tr>\n",
              "    <tr>\n",
              "      <th>score</th>\n",
              "      <td>0</td>\n",
              "    </tr>\n",
              "    <tr>\n",
              "      <th>content</th>\n",
              "      <td>0</td>\n",
              "    </tr>\n",
              "    <tr>\n",
              "      <th>text_clean</th>\n",
              "      <td>0</td>\n",
              "    </tr>\n",
              "    <tr>\n",
              "      <th>text_casefoldingText</th>\n",
              "      <td>0</td>\n",
              "    </tr>\n",
              "    <tr>\n",
              "      <th>text_slangwords</th>\n",
              "      <td>0</td>\n",
              "    </tr>\n",
              "    <tr>\n",
              "      <th>text_tokenizingText</th>\n",
              "      <td>0</td>\n",
              "    </tr>\n",
              "    <tr>\n",
              "      <th>text_stopword</th>\n",
              "      <td>0</td>\n",
              "    </tr>\n",
              "    <tr>\n",
              "      <th>text_akhir</th>\n",
              "      <td>7</td>\n",
              "    </tr>\n",
              "    <tr>\n",
              "      <th>polarity_score</th>\n",
              "      <td>0</td>\n",
              "    </tr>\n",
              "    <tr>\n",
              "      <th>polarity</th>\n",
              "      <td>0</td>\n",
              "    </tr>\n",
              "  </tbody>\n",
              "</table>\n",
              "</div><br><label><b>dtype:</b> int64</label>"
            ]
          },
          "metadata": {},
          "execution_count": 23
        }
      ]
    },
    {
      "cell_type": "code",
      "source": [
        "df = df.dropna(subset=['text_akhir'])"
      ],
      "metadata": {
        "id": "DDomi7ItEukY"
      },
      "execution_count": 24,
      "outputs": []
    },
    {
      "cell_type": "code",
      "source": [
        "from sklearn.preprocessing import LabelEncoder, StandardScaler\n",
        "X = df['text_akhir']\n",
        "y = df['polarity']\n",
        "\n",
        "le = LabelEncoder()\n",
        "y_encoded = le.fit_transform(y)"
      ],
      "metadata": {
        "id": "THDW45kDVSzU"
      },
      "execution_count": 25,
      "outputs": []
    },
    {
      "cell_type": "markdown",
      "source": [
        "#Pelatihan: SVM,    Ekstraksi Fitur: TF-IDF,    Pembagian Data: 80/20"
      ],
      "metadata": {
        "id": "ido3ntJKTLkt"
      }
    },
    {
      "cell_type": "code",
      "source": [
        "tfidf = TfidfVectorizer(max_features=5000)\n",
        "X_tfidf = tfidf.fit_transform(X)\n",
        "\n",
        "print(\"TF-IDF shape:\", X_tfidf.shape)\n",
        "\n",
        "X_train2, X_test2, y_train2, y_test2 = train_test_split(X_tfidf, y, test_size=0.2, random_state=42)\n",
        "\n",
        "label_encoder = LabelEncoder()\n",
        "label_encoder.fit(pd.concat([y_train2, y_test2]))\n",
        "y_train_encoded = label_encoder.transform(y_train2)\n",
        "y_test_encoded = label_encoder.transform(y_test2)\n",
        "\n",
        "sm = SMOTE(random_state=42)\n",
        "X_train_resampled, y_train_resampled = sm.fit_resample(X_train2, y_train_encoded)\n"
      ],
      "metadata": {
        "colab": {
          "base_uri": "https://localhost:8080/"
        },
        "id": "TiHzy2F2Tf6L",
        "outputId": "455a3e52-21fd-4603-8406-bcbebeee2adf"
      },
      "execution_count": 26,
      "outputs": [
        {
          "output_type": "stream",
          "name": "stdout",
          "text": [
            "TF-IDF shape: (49993, 5000)\n"
          ]
        }
      ]
    },
    {
      "cell_type": "code",
      "source": [
        "svm_model = SVC(kernel='linear')\n",
        "\n",
        "start_time = time.time()\n",
        "svm_model.fit(X_train_resampled, y_train_resampled)\n",
        "print(\"Training selesai dalam\", round(time.time() - start_time, 2), \"detik\")\n",
        "\n",
        "y_pred_train = svm_model.predict(X_train2)\n",
        "y_pred_test = svm_model.predict(X_test2)\n",
        "y_pred_train_original = label_encoder.inverse_transform(y_pred_train)\n",
        "y_pred_test_original = label_encoder.inverse_transform(y_pred_test)\n",
        "\n",
        "accuracy_train = accuracy_score(y_train2, y_pred_train_original)\n",
        "accuracy_test = accuracy_score(y_test2, y_pred_test_original)\n",
        "\n",
        "print('SVM - akurasi data train:', accuracy_train)\n",
        "print('SVM - akurasi data test:', accuracy_test)\n",
        ""
      ],
      "metadata": {
        "colab": {
          "base_uri": "https://localhost:8080/"
        },
        "id": "nblly7PbU1bZ",
        "outputId": "ea6b932a-7eb3-4859-d52e-9a0d63e0b5d0"
      },
      "execution_count": 27,
      "outputs": [
        {
          "output_type": "stream",
          "name": "stdout",
          "text": [
            "Training selesai dalam 681.8 detik\n",
            "SVM - akurasi data train: 0.9348152222833425\n",
            "SVM - akurasi data test: 0.8782878287828783\n"
          ]
        }
      ]
    },
    {
      "cell_type": "markdown",
      "source": [
        "#Pelatihan: SVM,    Ekstraksi Fitur: TF-IDF,    Pembagian Data: 70/30"
      ],
      "metadata": {
        "id": "g7_rYxLc_Q-D"
      }
    },
    {
      "cell_type": "code",
      "source": [
        "tfidf = TfidfVectorizer(max_features=5000)\n",
        "X_tfidf = tfidf.fit_transform(X)\n",
        "\n",
        "print(\"TF-IDF shape:\", X_tfidf.shape)\n",
        "\n",
        "X_train2, X_test2, y_train2, y_test2 = train_test_split(X_tfidf, y, test_size=0.3, random_state=42)\n",
        "\n",
        "label_encoder = LabelEncoder()\n",
        "label_encoder.fit(pd.concat([y_train2, y_test2]))\n",
        "y_train_encoded = label_encoder.transform(y_train2)\n",
        "y_test_encoded = label_encoder.transform(y_test2)\n",
        "\n",
        "sm = SMOTE(random_state=42)\n",
        "X_train_resampled, y_train_resampled = sm.fit_resample(X_train2, y_train_encoded)\n"
      ],
      "metadata": {
        "colab": {
          "base_uri": "https://localhost:8080/"
        },
        "outputId": "0900c61c-9c1b-4095-a953-2055ee05bbfe",
        "id": "Hdr5OBnk_Q-E"
      },
      "execution_count": 36,
      "outputs": [
        {
          "output_type": "stream",
          "name": "stdout",
          "text": [
            "TF-IDF shape: (49993, 5000)\n"
          ]
        }
      ]
    },
    {
      "cell_type": "code",
      "source": [
        "svm_model = SVC(kernel='linear')\n",
        "\n",
        "start_time = time.time()\n",
        "svm_model.fit(X_train_resampled, y_train_resampled)\n",
        "print(\"Training selesai dalam\", round(time.time() - start_time, 2), \"detik\")\n",
        "\n",
        "y_pred_train = svm_model.predict(X_train2)\n",
        "y_pred_test = svm_model.predict(X_test2)\n",
        "y_pred_train_original = label_encoder.inverse_transform(y_pred_train)\n",
        "y_pred_test_original = label_encoder.inverse_transform(y_pred_test)\n",
        "\n",
        "accuracy_train = accuracy_score(y_train2, y_pred_train_original)\n",
        "accuracy_test = accuracy_score(y_test2, y_pred_test_original)\n",
        "\n",
        "print('SVM - akurasi data train:', accuracy_train)\n",
        "print('SVM - akurasi data test:', accuracy_test)\n"
      ],
      "metadata": {
        "colab": {
          "base_uri": "https://localhost:8080/"
        },
        "outputId": "cbd83431-7e42-4810-dfa6-c20d1c087a22",
        "id": "HRKFcA8s_Q-E"
      },
      "execution_count": 37,
      "outputs": [
        {
          "output_type": "stream",
          "name": "stdout",
          "text": [
            "Training selesai dalam 571.35 detik\n",
            "SVM - akurasi data train: 0.9352478925560794\n",
            "SVM - akurasi data test: 0.872182957727697\n"
          ]
        }
      ]
    },
    {
      "cell_type": "markdown",
      "source": [
        "#Pelatihan: CNN, Ekstraksi Fitur: Embedding, Pembagian Data: 80/20"
      ],
      "metadata": {
        "id": "lha6v86cYt7L"
      }
    },
    {
      "cell_type": "code",
      "source": [
        "tokenizer = Tokenizer(num_words=10000)\n",
        "tokenizer.fit_on_texts(X)\n",
        "\n",
        "X_seq = tokenizer.texts_to_sequences(X)\n",
        "maxlen = max(len(seq) for seq in X_seq)\n",
        "X_pad = pad_sequences(X_seq, padding='post', maxlen=100)\n",
        "\n",
        "ros = RandomOverSampler(random_state=42)\n",
        "X_resampled, y_resampled = ros.fit_resample(X_pad, y_encoded)\n",
        "\n",
        "X_train, X_test, y_train, y_test = train_test_split(X_pad, y_encoded, test_size=0.2, random_state=42)\n",
        "\n",
        "vocab_size = len(tokenizer.word_index) + 1\n",
        "\n",
        "model_cnn = Sequential([\n",
        "    Embedding(input_dim=10000, output_dim=64, input_length=100),\n",
        "    Conv1D(128, kernel_size=5, activation='relu'),\n",
        "    GlobalMaxPooling1D(),\n",
        "    Dropout(0.3),\n",
        "    Dense(10, activation='relu'),\n",
        "    Dropout(0.3),\n",
        "    Dense(3, activation='softmax')\n",
        "])\n",
        "\n",
        "model_cnn.build(input_shape=(None, maxlen))\n",
        "model_cnn.summary()"
      ],
      "metadata": {
        "colab": {
          "base_uri": "https://localhost:8080/",
          "height": 405
        },
        "id": "Ij_Z4rdLYvmb",
        "outputId": "29c4d136-6881-46dd-bb52-e7d7757eb6ba"
      },
      "execution_count": 30,
      "outputs": [
        {
          "output_type": "stream",
          "name": "stderr",
          "text": [
            "/usr/local/lib/python3.11/dist-packages/keras/src/layers/core/embedding.py:90: UserWarning: Argument `input_length` is deprecated. Just remove it.\n",
            "  warnings.warn(\n"
          ]
        },
        {
          "output_type": "display_data",
          "data": {
            "text/plain": [
              "\u001b[1mModel: \"sequential_1\"\u001b[0m\n"
            ],
            "text/html": [
              "<pre style=\"white-space:pre;overflow-x:auto;line-height:normal;font-family:Menlo,'DejaVu Sans Mono',consolas,'Courier New',monospace\"><span style=\"font-weight: bold\">Model: \"sequential_1\"</span>\n",
              "</pre>\n"
            ]
          },
          "metadata": {}
        },
        {
          "output_type": "display_data",
          "data": {
            "text/plain": [
              "┏━━━━━━━━━━━━━━━━━━━━━━━━━━━━━━━━━┳━━━━━━━━━━━━━━━━━━━━━━━━┳━━━━━━━━━━━━━━━┓\n",
              "┃\u001b[1m \u001b[0m\u001b[1mLayer (type)                   \u001b[0m\u001b[1m \u001b[0m┃\u001b[1m \u001b[0m\u001b[1mOutput Shape          \u001b[0m\u001b[1m \u001b[0m┃\u001b[1m \u001b[0m\u001b[1m      Param #\u001b[0m\u001b[1m \u001b[0m┃\n",
              "┡━━━━━━━━━━━━━━━━━━━━━━━━━━━━━━━━━╇━━━━━━━━━━━━━━━━━━━━━━━━╇━━━━━━━━━━━━━━━┩\n",
              "│ embedding_1 (\u001b[38;5;33mEmbedding\u001b[0m)         │ (\u001b[38;5;45mNone\u001b[0m, \u001b[38;5;34m77\u001b[0m, \u001b[38;5;34m64\u001b[0m)         │       \u001b[38;5;34m640,000\u001b[0m │\n",
              "├─────────────────────────────────┼────────────────────────┼───────────────┤\n",
              "│ conv1d_1 (\u001b[38;5;33mConv1D\u001b[0m)               │ (\u001b[38;5;45mNone\u001b[0m, \u001b[38;5;34m73\u001b[0m, \u001b[38;5;34m128\u001b[0m)        │        \u001b[38;5;34m41,088\u001b[0m │\n",
              "├─────────────────────────────────┼────────────────────────┼───────────────┤\n",
              "│ global_max_pooling1d_1          │ (\u001b[38;5;45mNone\u001b[0m, \u001b[38;5;34m128\u001b[0m)            │             \u001b[38;5;34m0\u001b[0m │\n",
              "│ (\u001b[38;5;33mGlobalMaxPooling1D\u001b[0m)            │                        │               │\n",
              "├─────────────────────────────────┼────────────────────────┼───────────────┤\n",
              "│ dropout_2 (\u001b[38;5;33mDropout\u001b[0m)             │ (\u001b[38;5;45mNone\u001b[0m, \u001b[38;5;34m128\u001b[0m)            │             \u001b[38;5;34m0\u001b[0m │\n",
              "├─────────────────────────────────┼────────────────────────┼───────────────┤\n",
              "│ dense_2 (\u001b[38;5;33mDense\u001b[0m)                 │ (\u001b[38;5;45mNone\u001b[0m, \u001b[38;5;34m10\u001b[0m)             │         \u001b[38;5;34m1,290\u001b[0m │\n",
              "├─────────────────────────────────┼────────────────────────┼───────────────┤\n",
              "│ dropout_3 (\u001b[38;5;33mDropout\u001b[0m)             │ (\u001b[38;5;45mNone\u001b[0m, \u001b[38;5;34m10\u001b[0m)             │             \u001b[38;5;34m0\u001b[0m │\n",
              "├─────────────────────────────────┼────────────────────────┼───────────────┤\n",
              "│ dense_3 (\u001b[38;5;33mDense\u001b[0m)                 │ (\u001b[38;5;45mNone\u001b[0m, \u001b[38;5;34m3\u001b[0m)              │            \u001b[38;5;34m33\u001b[0m │\n",
              "└─────────────────────────────────┴────────────────────────┴───────────────┘\n"
            ],
            "text/html": [
              "<pre style=\"white-space:pre;overflow-x:auto;line-height:normal;font-family:Menlo,'DejaVu Sans Mono',consolas,'Courier New',monospace\">┏━━━━━━━━━━━━━━━━━━━━━━━━━━━━━━━━━┳━━━━━━━━━━━━━━━━━━━━━━━━┳━━━━━━━━━━━━━━━┓\n",
              "┃<span style=\"font-weight: bold\"> Layer (type)                    </span>┃<span style=\"font-weight: bold\"> Output Shape           </span>┃<span style=\"font-weight: bold\">       Param # </span>┃\n",
              "┡━━━━━━━━━━━━━━━━━━━━━━━━━━━━━━━━━╇━━━━━━━━━━━━━━━━━━━━━━━━╇━━━━━━━━━━━━━━━┩\n",
              "│ embedding_1 (<span style=\"color: #0087ff; text-decoration-color: #0087ff\">Embedding</span>)         │ (<span style=\"color: #00d7ff; text-decoration-color: #00d7ff\">None</span>, <span style=\"color: #00af00; text-decoration-color: #00af00\">77</span>, <span style=\"color: #00af00; text-decoration-color: #00af00\">64</span>)         │       <span style=\"color: #00af00; text-decoration-color: #00af00\">640,000</span> │\n",
              "├─────────────────────────────────┼────────────────────────┼───────────────┤\n",
              "│ conv1d_1 (<span style=\"color: #0087ff; text-decoration-color: #0087ff\">Conv1D</span>)               │ (<span style=\"color: #00d7ff; text-decoration-color: #00d7ff\">None</span>, <span style=\"color: #00af00; text-decoration-color: #00af00\">73</span>, <span style=\"color: #00af00; text-decoration-color: #00af00\">128</span>)        │        <span style=\"color: #00af00; text-decoration-color: #00af00\">41,088</span> │\n",
              "├─────────────────────────────────┼────────────────────────┼───────────────┤\n",
              "│ global_max_pooling1d_1          │ (<span style=\"color: #00d7ff; text-decoration-color: #00d7ff\">None</span>, <span style=\"color: #00af00; text-decoration-color: #00af00\">128</span>)            │             <span style=\"color: #00af00; text-decoration-color: #00af00\">0</span> │\n",
              "│ (<span style=\"color: #0087ff; text-decoration-color: #0087ff\">GlobalMaxPooling1D</span>)            │                        │               │\n",
              "├─────────────────────────────────┼────────────────────────┼───────────────┤\n",
              "│ dropout_2 (<span style=\"color: #0087ff; text-decoration-color: #0087ff\">Dropout</span>)             │ (<span style=\"color: #00d7ff; text-decoration-color: #00d7ff\">None</span>, <span style=\"color: #00af00; text-decoration-color: #00af00\">128</span>)            │             <span style=\"color: #00af00; text-decoration-color: #00af00\">0</span> │\n",
              "├─────────────────────────────────┼────────────────────────┼───────────────┤\n",
              "│ dense_2 (<span style=\"color: #0087ff; text-decoration-color: #0087ff\">Dense</span>)                 │ (<span style=\"color: #00d7ff; text-decoration-color: #00d7ff\">None</span>, <span style=\"color: #00af00; text-decoration-color: #00af00\">10</span>)             │         <span style=\"color: #00af00; text-decoration-color: #00af00\">1,290</span> │\n",
              "├─────────────────────────────────┼────────────────────────┼───────────────┤\n",
              "│ dropout_3 (<span style=\"color: #0087ff; text-decoration-color: #0087ff\">Dropout</span>)             │ (<span style=\"color: #00d7ff; text-decoration-color: #00d7ff\">None</span>, <span style=\"color: #00af00; text-decoration-color: #00af00\">10</span>)             │             <span style=\"color: #00af00; text-decoration-color: #00af00\">0</span> │\n",
              "├─────────────────────────────────┼────────────────────────┼───────────────┤\n",
              "│ dense_3 (<span style=\"color: #0087ff; text-decoration-color: #0087ff\">Dense</span>)                 │ (<span style=\"color: #00d7ff; text-decoration-color: #00d7ff\">None</span>, <span style=\"color: #00af00; text-decoration-color: #00af00\">3</span>)              │            <span style=\"color: #00af00; text-decoration-color: #00af00\">33</span> │\n",
              "└─────────────────────────────────┴────────────────────────┴───────────────┘\n",
              "</pre>\n"
            ]
          },
          "metadata": {}
        },
        {
          "output_type": "display_data",
          "data": {
            "text/plain": [
              "\u001b[1m Total params: \u001b[0m\u001b[38;5;34m682,411\u001b[0m (2.60 MB)\n"
            ],
            "text/html": [
              "<pre style=\"white-space:pre;overflow-x:auto;line-height:normal;font-family:Menlo,'DejaVu Sans Mono',consolas,'Courier New',monospace\"><span style=\"font-weight: bold\"> Total params: </span><span style=\"color: #00af00; text-decoration-color: #00af00\">682,411</span> (2.60 MB)\n",
              "</pre>\n"
            ]
          },
          "metadata": {}
        },
        {
          "output_type": "display_data",
          "data": {
            "text/plain": [
              "\u001b[1m Trainable params: \u001b[0m\u001b[38;5;34m682,411\u001b[0m (2.60 MB)\n"
            ],
            "text/html": [
              "<pre style=\"white-space:pre;overflow-x:auto;line-height:normal;font-family:Menlo,'DejaVu Sans Mono',consolas,'Courier New',monospace\"><span style=\"font-weight: bold\"> Trainable params: </span><span style=\"color: #00af00; text-decoration-color: #00af00\">682,411</span> (2.60 MB)\n",
              "</pre>\n"
            ]
          },
          "metadata": {}
        },
        {
          "output_type": "display_data",
          "data": {
            "text/plain": [
              "\u001b[1m Non-trainable params: \u001b[0m\u001b[38;5;34m0\u001b[0m (0.00 B)\n"
            ],
            "text/html": [
              "<pre style=\"white-space:pre;overflow-x:auto;line-height:normal;font-family:Menlo,'DejaVu Sans Mono',consolas,'Courier New',monospace\"><span style=\"font-weight: bold\"> Non-trainable params: </span><span style=\"color: #00af00; text-decoration-color: #00af00\">0</span> (0.00 B)\n",
              "</pre>\n"
            ]
          },
          "metadata": {}
        }
      ]
    },
    {
      "cell_type": "code",
      "source": [
        "model_cnn.compile(\n",
        "    loss='sparse_categorical_crossentropy',\n",
        "    optimizer='adam',\n",
        "    metrics=['accuracy']\n",
        ")\n",
        "\n",
        "early_stopping = EarlyStopping(\n",
        "    monitor='val_loss',\n",
        "    patience=10,\n",
        "    restore_best_weights=True\n",
        ")\n",
        "\n",
        "history = model_cnn.fit(\n",
        "              X_train, y_train,\n",
        "              epochs=200,\n",
        "              batch_size=32,\n",
        "              validation_data=(X_test, y_test),\n",
        "              callbacks=[early_stopping]\n",
        "          )\n",
        "\n",
        "cnn_pred = model_cnn.predict(X_test).argmax(axis=1)\n",
        "print(classification_report(y_test, cnn_pred, target_names=le.classes_))"
      ],
      "metadata": {
        "colab": {
          "base_uri": "https://localhost:8080/"
        },
        "id": "OxdHkBvzY4JR",
        "outputId": "607cfdc9-256c-466f-f301-3deb0d5682b8"
      },
      "execution_count": 31,
      "outputs": [
        {
          "output_type": "stream",
          "name": "stdout",
          "text": [
            "Epoch 1/200\n",
            "\u001b[1m1250/1250\u001b[0m \u001b[32m━━━━━━━━━━━━━━━━━━━━\u001b[0m\u001b[37m\u001b[0m \u001b[1m37s\u001b[0m 29ms/step - accuracy: 0.6869 - loss: 0.7083 - val_accuracy: 0.8545 - val_loss: 0.3999\n",
            "Epoch 2/200\n",
            "\u001b[1m1250/1250\u001b[0m \u001b[32m━━━━━━━━━━━━━━━━━━━━\u001b[0m\u001b[37m\u001b[0m \u001b[1m37s\u001b[0m 29ms/step - accuracy: 0.8583 - loss: 0.3937 - val_accuracy: 0.8607 - val_loss: 0.3681\n",
            "Epoch 3/200\n",
            "\u001b[1m1250/1250\u001b[0m \u001b[32m━━━━━━━━━━━━━━━━━━━━\u001b[0m\u001b[37m\u001b[0m \u001b[1m42s\u001b[0m 30ms/step - accuracy: 0.8939 - loss: 0.3056 - val_accuracy: 0.8642 - val_loss: 0.3756\n",
            "Epoch 4/200\n",
            "\u001b[1m1250/1250\u001b[0m \u001b[32m━━━━━━━━━━━━━━━━━━━━\u001b[0m\u001b[37m\u001b[0m \u001b[1m35s\u001b[0m 28ms/step - accuracy: 0.9095 - loss: 0.2533 - val_accuracy: 0.8617 - val_loss: 0.4183\n",
            "Epoch 5/200\n",
            "\u001b[1m1250/1250\u001b[0m \u001b[32m━━━━━━━━━━━━━━━━━━━━\u001b[0m\u001b[37m\u001b[0m \u001b[1m37s\u001b[0m 30ms/step - accuracy: 0.9187 - loss: 0.2176 - val_accuracy: 0.8621 - val_loss: 0.4377\n",
            "Epoch 6/200\n",
            "\u001b[1m1250/1250\u001b[0m \u001b[32m━━━━━━━━━━━━━━━━━━━━\u001b[0m\u001b[37m\u001b[0m \u001b[1m42s\u001b[0m 31ms/step - accuracy: 0.9273 - loss: 0.1908 - val_accuracy: 0.8529 - val_loss: 0.4781\n",
            "Epoch 7/200\n",
            "\u001b[1m1250/1250\u001b[0m \u001b[32m━━━━━━━━━━━━━━━━━━━━\u001b[0m\u001b[37m\u001b[0m \u001b[1m38s\u001b[0m 28ms/step - accuracy: 0.9325 - loss: 0.1772 - val_accuracy: 0.8475 - val_loss: 0.5679\n",
            "Epoch 8/200\n",
            "\u001b[1m1250/1250\u001b[0m \u001b[32m━━━━━━━━━━━━━━━━━━━━\u001b[0m\u001b[37m\u001b[0m \u001b[1m42s\u001b[0m 29ms/step - accuracy: 0.9357 - loss: 0.1630 - val_accuracy: 0.8512 - val_loss: 0.5786\n",
            "Epoch 9/200\n",
            "\u001b[1m1250/1250\u001b[0m \u001b[32m━━━━━━━━━━━━━━━━━━━━\u001b[0m\u001b[37m\u001b[0m \u001b[1m37s\u001b[0m 29ms/step - accuracy: 0.9440 - loss: 0.1449 - val_accuracy: 0.8253 - val_loss: 0.6595\n",
            "Epoch 10/200\n",
            "\u001b[1m1250/1250\u001b[0m \u001b[32m━━━━━━━━━━━━━━━━━━━━\u001b[0m\u001b[37m\u001b[0m \u001b[1m41s\u001b[0m 30ms/step - accuracy: 0.9466 - loss: 0.1386 - val_accuracy: 0.8204 - val_loss: 0.7893\n",
            "Epoch 11/200\n",
            "\u001b[1m1250/1250\u001b[0m \u001b[32m━━━━━━━━━━━━━━━━━━━━\u001b[0m\u001b[37m\u001b[0m \u001b[1m35s\u001b[0m 28ms/step - accuracy: 0.9529 - loss: 0.1276 - val_accuracy: 0.8083 - val_loss: 0.7375\n",
            "Epoch 12/200\n",
            "\u001b[1m1250/1250\u001b[0m \u001b[32m━━━━━━━━━━━━━━━━━━━━\u001b[0m\u001b[37m\u001b[0m \u001b[1m41s\u001b[0m 28ms/step - accuracy: 0.9556 - loss: 0.1230 - val_accuracy: 0.8199 - val_loss: 0.8016\n",
            "\u001b[1m313/313\u001b[0m \u001b[32m━━━━━━━━━━━━━━━━━━━━\u001b[0m\u001b[37m\u001b[0m \u001b[1m2s\u001b[0m 7ms/step\n",
            "              precision    recall  f1-score   support\n",
            "\n",
            "    negative       0.85      0.96      0.90      5609\n",
            "     neutral       0.78      0.26      0.39       649\n",
            "    positive       0.89      0.82      0.85      3741\n",
            "\n",
            "    accuracy                           0.86      9999\n",
            "   macro avg       0.84      0.68      0.71      9999\n",
            "weighted avg       0.86      0.86      0.85      9999\n",
            "\n"
          ]
        }
      ]
    },
    {
      "cell_type": "code",
      "source": [
        "cnn_pred_train = model_cnn.predict(X_train).argmax(axis=1)\n",
        "cnn_pred_test = model_cnn.predict(X_test).argmax(axis=1)\n",
        "\n",
        "accuracy_train_cnn = accuracy_score(y_train, cnn_pred_train)\n",
        "accuracy_test_cnn = accuracy_score(y_test, cnn_pred_test)\n",
        "\n",
        "print(\"CNN - akurasi data train:\", accuracy_train_cnn)\n",
        "print(\"CNN - akurasi data test:\", accuracy_test_cnn)"
      ],
      "metadata": {
        "colab": {
          "base_uri": "https://localhost:8080/"
        },
        "id": "digCItGcZdgM",
        "outputId": "6697e228-9875-402f-9985-cb5862d1e558"
      },
      "execution_count": 32,
      "outputs": [
        {
          "output_type": "stream",
          "name": "stdout",
          "text": [
            "\u001b[1m1250/1250\u001b[0m \u001b[32m━━━━━━━━━━━━━━━━━━━━\u001b[0m\u001b[37m\u001b[0m \u001b[1m9s\u001b[0m 7ms/step\n",
            "\u001b[1m313/313\u001b[0m \u001b[32m━━━━━━━━━━━━━━━━━━━━\u001b[0m\u001b[37m\u001b[0m \u001b[1m2s\u001b[0m 6ms/step\n",
            "CNN - akurasi data train: 0.9115367305095764\n",
            "CNN - akurasi data test: 0.8606860686068607\n"
          ]
        }
      ]
    },
    {
      "cell_type": "markdown",
      "source": [
        "#EKSPORT"
      ],
      "metadata": {
        "id": "0GjdGYc5YqL1"
      }
    },
    {
      "cell_type": "code",
      "source": [
        "import joblib\n",
        "from google.colab import drive\n",
        "drive.mount('/content/drive')\n",
        "\n",
        "joblib.dump(svm_model, 'svm_model.pkl')"
      ],
      "metadata": {
        "colab": {
          "base_uri": "https://localhost:8080/"
        },
        "id": "YXmTZ44yYXCm",
        "outputId": "d3e7f115-7f99-4817-a65f-8adde0668064"
      },
      "execution_count": 38,
      "outputs": [
        {
          "output_type": "stream",
          "name": "stdout",
          "text": [
            "Drive already mounted at /content/drive; to attempt to forcibly remount, call drive.mount(\"/content/drive\", force_remount=True).\n"
          ]
        },
        {
          "output_type": "execute_result",
          "data": {
            "text/plain": [
              "['svm_model.pkl']"
            ]
          },
          "metadata": {},
          "execution_count": 38
        }
      ]
    },
    {
      "cell_type": "code",
      "source": [
        "model_cnn.save('/content/drive/MyDrive/cnn_model.h5')\n",
        "joblib.dump(svm_model, '/content/drive/MyDrive/svm_model.pkl')\n",
        "\n",
        "joblib.dump(tfidf, '/content/drive/MyDrive/tfidf_vectorizer.pkl')\n",
        "joblib.dump(tokenizer, '/content/drive/MyDrive/tokenizer.pkl')"
      ],
      "metadata": {
        "colab": {
          "base_uri": "https://localhost:8080/"
        },
        "id": "DtFY3dbw-f-B",
        "outputId": "c560cd58-bb71-4f78-bb3c-3417998d84b2"
      },
      "execution_count": 39,
      "outputs": [
        {
          "output_type": "stream",
          "name": "stderr",
          "text": [
            "WARNING:absl:You are saving your model as an HDF5 file via `model.save()` or `keras.saving.save_model(model)`. This file format is considered legacy. We recommend using instead the native Keras format, e.g. `model.save('my_model.keras')` or `keras.saving.save_model(model, 'my_model.keras')`. \n"
          ]
        },
        {
          "output_type": "execute_result",
          "data": {
            "text/plain": [
              "['/content/drive/MyDrive/tokenizer.pkl']"
            ]
          },
          "metadata": {},
          "execution_count": 39
        }
      ]
    }
  ]
}